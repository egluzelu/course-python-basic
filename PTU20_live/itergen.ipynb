{
 "cells": [
  {
   "cell_type": "markdown",
   "metadata": {},
   "source": [
    "# ITERatoriai"
   ]
  },
  {
   "cell_type": "code",
   "execution_count": 2,
   "metadata": {},
   "outputs": [
    {
     "data": {
      "text/plain": [
       "<list_iterator at 0x225686b5150>"
      ]
     },
     "execution_count": 2,
     "metadata": {},
     "output_type": "execute_result"
    }
   ],
   "source": [
    "skaiciai = [4, 2, 7, 6, 9]\n",
    "skaiciuoklis = iter(skaiciai)\n",
    "skaiciuoklis"
   ]
  },
  {
   "cell_type": "code",
   "execution_count": 3,
   "metadata": {},
   "outputs": [
    {
     "name": "stdout",
     "output_type": "stream",
     "text": [
      "4\n"
     ]
    }
   ],
   "source": [
    "print(next(skaiciuoklis))"
   ]
  },
  {
   "cell_type": "code",
   "execution_count": 4,
   "metadata": {},
   "outputs": [
    {
     "name": "stdout",
     "output_type": "stream",
     "text": [
      "4\n",
      "2\n",
      "7\n",
      "6\n",
      "9\n"
     ]
    }
   ],
   "source": [
    "skaiciuoklis = iter(skaiciai)\n",
    "while True:\n",
    "    try:\n",
    "        skaicius = next(skaiciuoklis)\n",
    "    except StopIteration:\n",
    "        break\n",
    "    else:\n",
    "        print(skaicius)"
   ]
  },
  {
   "cell_type": "code",
   "execution_count": 5,
   "metadata": {},
   "outputs": [
    {
     "name": "stdout",
     "output_type": "stream",
     "text": [
      "4\n",
      "2\n",
      "7\n",
      "6\n",
      "9\n"
     ]
    }
   ],
   "source": [
    "for skaicius in skaiciai:\n",
    "    print(skaicius)"
   ]
  },
  {
   "cell_type": "code",
   "execution_count": 6,
   "metadata": {},
   "outputs": [
    {
     "name": "stdout",
     "output_type": "stream",
     "text": [
      "vardas Geras\n",
      "pavarde Studentas\n",
      "pazymiai [10, 9, 10, 10, 9, 10]\n",
      "lankomumas 100\n"
     ]
    }
   ],
   "source": [
    "zmogus = {\n",
    "    'vardas': \"Geras\",\n",
    "    'pavarde': \"Studentas\",\n",
    "    'pazymiai': [10, 9, 10, 10, 9, 10],\n",
    "    'lankomumas': 100,\n",
    "}\n",
    "\n",
    "zmogaus_atributai = iter(zmogus.items())\n",
    "\n",
    "while True:\n",
    "    try:\n",
    "        raktas, reiksme = next(zmogaus_atributai)\n",
    "    except StopIteration:\n",
    "        break\n",
    "    else:\n",
    "        print(raktas, reiksme)"
   ]
  },
  {
   "cell_type": "markdown",
   "metadata": {},
   "source": [
    "# GENERATORIAI"
   ]
  },
  {
   "cell_type": "code",
   "execution_count": null,
   "metadata": {},
   "outputs": [],
   "source": [
    "def skaiciai_iki_n(n):\n",
    "    skaicius = 0\n",
    "    while skaicius < n:\n",
    "        yield skaicius\n",
    "        skaicius += 1\n",
    "\n",
    "skaitliukas = skaiciai_iki_n(10)\n",
    "print(skaitliukas)"
   ]
  },
  {
   "cell_type": "code",
   "execution_count": null,
   "metadata": {},
   "outputs": [],
   "source": [
    "skaitliukas = skaiciai_iki_n(10)\n",
    "list(skaitliukas)"
   ]
  },
  {
   "cell_type": "code",
   "execution_count": null,
   "metadata": {},
   "outputs": [],
   "source": [
    "skaitliukas = skaiciai_iki_n(10)\n",
    "for skaicius in range(5):\n",
    "    print(next(skaitliukas))"
   ]
  },
  {
   "cell_type": "code",
   "execution_count": null,
   "metadata": {},
   "outputs": [],
   "source": [
    "def primes_to_n(limit: int):\n",
    "    current = 1\n",
    "    while current < limit:\n",
    "        current += 1\n",
    "        if current == 2:\n",
    "            yield current\n",
    "        if current % 2 == 0:\n",
    "            continue\n",
    "        for number in range(3, current, 2):\n",
    "            if current % number == 0:\n",
    "                break\n",
    "        else:\n",
    "            yield current\n"
   ]
  },
  {
   "cell_type": "code",
   "execution_count": null,
   "metadata": {},
   "outputs": [],
   "source": [
    "primes_to_100 = primes_to_n(1000)\n",
    "print(list(primes_to_100))"
   ]
  }
 ],
 "metadata": {
  "kernelspec": {
   "display_name": "venv",
   "language": "python",
   "name": "python3"
  },
  "language_info": {
   "codemirror_mode": {
    "name": "ipython",
    "version": 3
   },
   "file_extension": ".py",
   "mimetype": "text/x-python",
   "name": "python",
   "nbconvert_exporter": "python",
   "pygments_lexer": "ipython3",
   "version": "3.10.11"
  }
 },
 "nbformat": 4,
 "nbformat_minor": 2
}
