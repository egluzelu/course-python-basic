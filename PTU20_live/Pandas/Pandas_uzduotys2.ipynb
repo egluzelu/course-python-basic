{
 "cells": [
  {
   "cell_type": "markdown",
   "metadata": {},
   "source": [
    "# Pandas užduotys 2"
   ]
  },
  {
   "cell_type": "code",
   "execution_count": 287,
   "metadata": {},
   "outputs": [],
   "source": [
    "import numpy as np\n",
    "import pandas as pd"
   ]
  },
  {
   "cell_type": "markdown",
   "metadata": {},
   "source": [
    "#  1 Sulipdykite iš 4 fragmentų vieną lentelę:\n",
    "\n",
    "fragmentus rasite [čia](https://github.com/robotautas/kursas/tree/master/Pandas/tops)\n",
    "\n",
    "* top_left = pd.read_csv('top1-25-1.csv')\n",
    "* top_right = pd.read_csv('top1-25-2.csv')\n",
    "* bottom_left = pd.read_csv('top26-50-1.csv')\n",
    "* bottom_right = pd.read_csv('top26-50-2.csv')\n",
    "\n",
    "pirmiausiai sujunkite apatinę dalį, tada viršutinę *(yra persidengiančių stulpelių!)*, galiausiai viršų su apačia. Naudokite **.concat()** ir **.merge()** metodus. "
   ]
  },
  {
   "cell_type": "code",
   "execution_count": 288,
   "metadata": {},
   "outputs": [],
   "source": [
    "top_left = pd.read_csv('top1-25-1.csv')\n",
    "top_right = pd.read_csv('top1-25-2.csv')\n",
    "bottom_left = pd.read_csv('top26-50-1.csv')\n",
    "bottom_right = pd.read_csv('top26-50-2.csv')"
   ]
  },
  {
   "cell_type": "code",
   "execution_count": null,
   "metadata": {
    "scrolled": true
   },
   "outputs": [],
   "source": []
  },
  {
   "cell_type": "code",
   "execution_count": 289,
   "metadata": {},
   "outputs": [],
   "source": [
    "bottom_left_frame = pd.DataFrame(bottom_left)\n",
    "bottom_right_frame = pd.DataFrame(bottom_right)\n",
    "top_left_frame = pd.DataFrame(top_left)\n",
    "top_right_frame = pd.DataFrame(top_right)"
   ]
  },
  {
   "cell_type": "code",
   "execution_count": 290,
   "metadata": {},
   "outputs": [],
   "source": [
    "bottom = pd.concat([bottom_left, bottom_right], axis = 1)\n",
    "top = pd.merge(top_left, top_right, on=['Track.Name','Popularity'])\n",
    "\n"
   ]
  },
  {
   "cell_type": "code",
   "execution_count": 291,
   "metadata": {},
   "outputs": [],
   "source": [
    "data = pd.concat([top, bottom], sort=False)\n"
   ]
  },
  {
   "cell_type": "code",
   "execution_count": 292,
   "metadata": {},
   "outputs": [
    {
     "data": {
      "text/html": [
       "<div>\n",
       "<style scoped>\n",
       "    .dataframe tbody tr th:only-of-type {\n",
       "        vertical-align: middle;\n",
       "    }\n",
       "\n",
       "    .dataframe tbody tr th {\n",
       "        vertical-align: top;\n",
       "    }\n",
       "\n",
       "    .dataframe thead th {\n",
       "        text-align: right;\n",
       "    }\n",
       "</style>\n",
       "<table border=\"1\" class=\"dataframe\">\n",
       "  <thead>\n",
       "    <tr style=\"text-align: right;\">\n",
       "      <th></th>\n",
       "      <th>Track.Name</th>\n",
       "      <th>Artist.Name</th>\n",
       "      <th>Genre</th>\n",
       "      <th>Popularity</th>\n",
       "      <th>Beats.Per.Minute</th>\n",
       "      <th>Energy</th>\n",
       "      <th>Danceability</th>\n",
       "      <th>Loudness..dB..</th>\n",
       "      <th>Liveness</th>\n",
       "      <th>Valence.</th>\n",
       "      <th>Length.</th>\n",
       "      <th>Acousticness..</th>\n",
       "      <th>Speechiness.</th>\n",
       "    </tr>\n",
       "  </thead>\n",
       "  <tbody>\n",
       "    <tr>\n",
       "      <th>0</th>\n",
       "      <td>Senorita</td>\n",
       "      <td>Shawn Mendes</td>\n",
       "      <td>canadian pop</td>\n",
       "      <td>79.0</td>\n",
       "      <td>117</td>\n",
       "      <td>55</td>\n",
       "      <td>76</td>\n",
       "      <td>-6</td>\n",
       "      <td>8</td>\n",
       "      <td>75</td>\n",
       "      <td>191</td>\n",
       "      <td>4</td>\n",
       "      <td>3</td>\n",
       "    </tr>\n",
       "    <tr>\n",
       "      <th>1</th>\n",
       "      <td>China</td>\n",
       "      <td>Anuel AA</td>\n",
       "      <td>reggaeton flow</td>\n",
       "      <td>92.0</td>\n",
       "      <td>105</td>\n",
       "      <td>81</td>\n",
       "      <td>79</td>\n",
       "      <td>-4</td>\n",
       "      <td>8</td>\n",
       "      <td>61</td>\n",
       "      <td>302</td>\n",
       "      <td>8</td>\n",
       "      <td>9</td>\n",
       "    </tr>\n",
       "    <tr>\n",
       "      <th>2</th>\n",
       "      <td>boyfriend (with Social House)</td>\n",
       "      <td>Ariana Grande</td>\n",
       "      <td>dance pop</td>\n",
       "      <td>85.0</td>\n",
       "      <td>190</td>\n",
       "      <td>80</td>\n",
       "      <td>40</td>\n",
       "      <td>-4</td>\n",
       "      <td>16</td>\n",
       "      <td>70</td>\n",
       "      <td>186</td>\n",
       "      <td>12</td>\n",
       "      <td>46</td>\n",
       "    </tr>\n",
       "    <tr>\n",
       "      <th>3</th>\n",
       "      <td>Beautiful People (feat. Khalid)</td>\n",
       "      <td>Ed Sheeran</td>\n",
       "      <td>pop</td>\n",
       "      <td>NaN</td>\n",
       "      <td>93</td>\n",
       "      <td>65</td>\n",
       "      <td>64</td>\n",
       "      <td>-8</td>\n",
       "      <td>8</td>\n",
       "      <td>55</td>\n",
       "      <td>198</td>\n",
       "      <td>12</td>\n",
       "      <td>19</td>\n",
       "    </tr>\n",
       "    <tr>\n",
       "      <th>4</th>\n",
       "      <td>Goodbyes (Feat. Young Thug)</td>\n",
       "      <td>Post Malone</td>\n",
       "      <td>dfw rap</td>\n",
       "      <td>94.0</td>\n",
       "      <td>150</td>\n",
       "      <td>65</td>\n",
       "      <td>58</td>\n",
       "      <td>-4</td>\n",
       "      <td>11</td>\n",
       "      <td>18</td>\n",
       "      <td>175</td>\n",
       "      <td>45</td>\n",
       "      <td>7</td>\n",
       "    </tr>\n",
       "  </tbody>\n",
       "</table>\n",
       "</div>"
      ],
      "text/plain": [
       "                        Track.Name    Artist.Name           Genre  Popularity  \\\n",
       "0                         Senorita   Shawn Mendes    canadian pop        79.0   \n",
       "1                            China       Anuel AA  reggaeton flow        92.0   \n",
       "2    boyfriend (with Social House)  Ariana Grande       dance pop        85.0   \n",
       "3  Beautiful People (feat. Khalid)     Ed Sheeran             pop         NaN   \n",
       "4      Goodbyes (Feat. Young Thug)    Post Malone         dfw rap        94.0   \n",
       "\n",
       "   Beats.Per.Minute  Energy  Danceability  Loudness..dB..  Liveness  Valence.  \\\n",
       "0               117      55            76              -6         8        75   \n",
       "1               105      81            79              -4         8        61   \n",
       "2               190      80            40              -4        16        70   \n",
       "3                93      65            64              -8         8        55   \n",
       "4               150      65            58              -4        11        18   \n",
       "\n",
       "   Length.  Acousticness..  Speechiness.  \n",
       "0      191               4             3  \n",
       "1      302               8             9  \n",
       "2      186              12            46  \n",
       "3      198              12            19  \n",
       "4      175              45             7  "
      ]
     },
     "execution_count": 292,
     "metadata": {},
     "output_type": "execute_result"
    }
   ],
   "source": [
    "data.head()"
   ]
  },
  {
   "cell_type": "markdown",
   "metadata": {},
   "source": [
    "# 2 Sutvarkykite indeksą - padarykite, kad prasidėtų nuo 1."
   ]
  },
  {
   "cell_type": "code",
   "execution_count": 293,
   "metadata": {},
   "outputs": [
    {
     "data": {
      "text/html": [
       "<div>\n",
       "<style scoped>\n",
       "    .dataframe tbody tr th:only-of-type {\n",
       "        vertical-align: middle;\n",
       "    }\n",
       "\n",
       "    .dataframe tbody tr th {\n",
       "        vertical-align: top;\n",
       "    }\n",
       "\n",
       "    .dataframe thead th {\n",
       "        text-align: right;\n",
       "    }\n",
       "</style>\n",
       "<table border=\"1\" class=\"dataframe\">\n",
       "  <thead>\n",
       "    <tr style=\"text-align: right;\">\n",
       "      <th></th>\n",
       "      <th>Track.Name</th>\n",
       "      <th>Artist.Name</th>\n",
       "      <th>Genre</th>\n",
       "      <th>Popularity</th>\n",
       "      <th>Beats.Per.Minute</th>\n",
       "      <th>Energy</th>\n",
       "      <th>Danceability</th>\n",
       "      <th>Loudness..dB..</th>\n",
       "      <th>Liveness</th>\n",
       "      <th>Valence.</th>\n",
       "      <th>Length.</th>\n",
       "      <th>Acousticness..</th>\n",
       "      <th>Speechiness.</th>\n",
       "    </tr>\n",
       "    <tr>\n",
       "      <th>Numeris</th>\n",
       "      <th></th>\n",
       "      <th></th>\n",
       "      <th></th>\n",
       "      <th></th>\n",
       "      <th></th>\n",
       "      <th></th>\n",
       "      <th></th>\n",
       "      <th></th>\n",
       "      <th></th>\n",
       "      <th></th>\n",
       "      <th></th>\n",
       "      <th></th>\n",
       "      <th></th>\n",
       "    </tr>\n",
       "  </thead>\n",
       "  <tbody>\n",
       "    <tr>\n",
       "      <th>1</th>\n",
       "      <td>Senorita</td>\n",
       "      <td>Shawn Mendes</td>\n",
       "      <td>canadian pop</td>\n",
       "      <td>79.0</td>\n",
       "      <td>117</td>\n",
       "      <td>55</td>\n",
       "      <td>76</td>\n",
       "      <td>-6</td>\n",
       "      <td>8</td>\n",
       "      <td>75</td>\n",
       "      <td>191</td>\n",
       "      <td>4</td>\n",
       "      <td>3</td>\n",
       "    </tr>\n",
       "    <tr>\n",
       "      <th>2</th>\n",
       "      <td>China</td>\n",
       "      <td>Anuel AA</td>\n",
       "      <td>reggaeton flow</td>\n",
       "      <td>92.0</td>\n",
       "      <td>105</td>\n",
       "      <td>81</td>\n",
       "      <td>79</td>\n",
       "      <td>-4</td>\n",
       "      <td>8</td>\n",
       "      <td>61</td>\n",
       "      <td>302</td>\n",
       "      <td>8</td>\n",
       "      <td>9</td>\n",
       "    </tr>\n",
       "    <tr>\n",
       "      <th>3</th>\n",
       "      <td>boyfriend (with Social House)</td>\n",
       "      <td>Ariana Grande</td>\n",
       "      <td>dance pop</td>\n",
       "      <td>85.0</td>\n",
       "      <td>190</td>\n",
       "      <td>80</td>\n",
       "      <td>40</td>\n",
       "      <td>-4</td>\n",
       "      <td>16</td>\n",
       "      <td>70</td>\n",
       "      <td>186</td>\n",
       "      <td>12</td>\n",
       "      <td>46</td>\n",
       "    </tr>\n",
       "    <tr>\n",
       "      <th>4</th>\n",
       "      <td>Beautiful People (feat. Khalid)</td>\n",
       "      <td>Ed Sheeran</td>\n",
       "      <td>pop</td>\n",
       "      <td>NaN</td>\n",
       "      <td>93</td>\n",
       "      <td>65</td>\n",
       "      <td>64</td>\n",
       "      <td>-8</td>\n",
       "      <td>8</td>\n",
       "      <td>55</td>\n",
       "      <td>198</td>\n",
       "      <td>12</td>\n",
       "      <td>19</td>\n",
       "    </tr>\n",
       "    <tr>\n",
       "      <th>5</th>\n",
       "      <td>Goodbyes (Feat. Young Thug)</td>\n",
       "      <td>Post Malone</td>\n",
       "      <td>dfw rap</td>\n",
       "      <td>94.0</td>\n",
       "      <td>150</td>\n",
       "      <td>65</td>\n",
       "      <td>58</td>\n",
       "      <td>-4</td>\n",
       "      <td>11</td>\n",
       "      <td>18</td>\n",
       "      <td>175</td>\n",
       "      <td>45</td>\n",
       "      <td>7</td>\n",
       "    </tr>\n",
       "  </tbody>\n",
       "</table>\n",
       "</div>"
      ],
      "text/plain": [
       "                              Track.Name    Artist.Name           Genre  \\\n",
       "Numeris                                                                   \n",
       "1                               Senorita   Shawn Mendes    canadian pop   \n",
       "2                                  China       Anuel AA  reggaeton flow   \n",
       "3          boyfriend (with Social House)  Ariana Grande       dance pop   \n",
       "4        Beautiful People (feat. Khalid)     Ed Sheeran             pop   \n",
       "5            Goodbyes (Feat. Young Thug)    Post Malone         dfw rap   \n",
       "\n",
       "         Popularity  Beats.Per.Minute  Energy  Danceability  Loudness..dB..  \\\n",
       "Numeris                                                                       \n",
       "1              79.0               117      55            76              -6   \n",
       "2              92.0               105      81            79              -4   \n",
       "3              85.0               190      80            40              -4   \n",
       "4               NaN                93      65            64              -8   \n",
       "5              94.0               150      65            58              -4   \n",
       "\n",
       "         Liveness  Valence.  Length.  Acousticness..  Speechiness.  \n",
       "Numeris                                                             \n",
       "1               8        75      191               4             3  \n",
       "2               8        61      302               8             9  \n",
       "3              16        70      186              12            46  \n",
       "4               8        55      198              12            19  \n",
       "5              11        18      175              45             7  "
      ]
     },
     "execution_count": 293,
     "metadata": {},
     "output_type": "execute_result"
    }
   ],
   "source": [
    "data[\"Numeris\"] = range(1,51)\n",
    "data.set_index(\"Numeris\", inplace=True)\n",
    "data.head()"
   ]
  },
  {
   "cell_type": "code",
   "execution_count": null,
   "metadata": {},
   "outputs": [],
   "source": []
  },
  {
   "cell_type": "code",
   "execution_count": null,
   "metadata": {},
   "outputs": [],
   "source": []
  },
  {
   "cell_type": "markdown",
   "metadata": {},
   "source": [
    "# 3 Sukurkite grupavimo pagal žanrą objektą"
   ]
  },
  {
   "cell_type": "code",
   "execution_count": 294,
   "metadata": {},
   "outputs": [],
   "source": [
    "zanras = data.groupby('Genre')\n"
   ]
  },
  {
   "cell_type": "code",
   "execution_count": 295,
   "metadata": {},
   "outputs": [
    {
     "data": {
      "text/plain": [
       "<pandas.core.groupby.generic.DataFrameGroupBy object at 0x000002B80D681D80>"
      ]
     },
     "execution_count": 295,
     "metadata": {},
     "output_type": "execute_result"
    }
   ],
   "source": [
    "zanras"
   ]
  },
  {
   "cell_type": "markdown",
   "metadata": {},
   "source": [
    "# 4 kokie žanrai lentelėje pasitaiko daugiau negu 3 kartus?"
   ]
  },
  {
   "cell_type": "code",
   "execution_count": 296,
   "metadata": {},
   "outputs": [
    {
     "data": {
      "text/plain": [
       "Genre\n",
       "dance pop    8\n",
       "latin        5\n",
       "pop          6\n",
       "Name: Track.Name, dtype: int64"
      ]
     },
     "execution_count": 296,
     "metadata": {},
     "output_type": "execute_result"
    }
   ],
   "source": [
    "daugiau_uz_tris = zanras.count()\n",
    "daugiau_uz_tris[(daugiau_uz_tris['Track.Name'] > 3)]['Track.Name']\n",
    "\n",
    "\n",
    "\n"
   ]
  },
  {
   "cell_type": "code",
   "execution_count": null,
   "metadata": {},
   "outputs": [],
   "source": []
  },
  {
   "cell_type": "code",
   "execution_count": null,
   "metadata": {},
   "outputs": [],
   "source": []
  },
  {
   "cell_type": "code",
   "execution_count": null,
   "metadata": {},
   "outputs": [],
   "source": []
  },
  {
   "cell_type": "markdown",
   "metadata": {},
   "source": [
    "# 5 Koks žanras pats populiariausias? Koks mažiausiai populiarus?\n",
    "(pagal populiarumo vidurkį)"
   ]
  },
  {
   "cell_type": "code",
   "execution_count": 297,
   "metadata": {},
   "outputs": [
    {
     "name": "stdout",
     "output_type": "stream",
     "text": [
      "electropop 95.0\n",
      "canadian pop 74.5\n"
     ]
    }
   ],
   "source": [
    "populiar = zanras['Popularity'].mean().idxmax()\n",
    "populiar2= zanras['Popularity'].mean().max()\n",
    "populiar_ne = zanras['Popularity'].mean().idxmin()\n",
    "populiar_ne2 = zanras['Popularity'].mean().min()\n",
    "print(populiar, populiar2)\n",
    "print(populiar_ne, populiar_ne2)\n"
   ]
  },
  {
   "cell_type": "code",
   "execution_count": null,
   "metadata": {},
   "outputs": [],
   "source": [
    "\n"
   ]
  },
  {
   "cell_type": "markdown",
   "metadata": {},
   "source": [
    "# 6 Sukurkite lentelę, kurioje matytųsi, koks žanras turi aukščiausią vidurkį kiekviename indikatoriuje, bei pats vidurkis.\n",
    "kad nereikėtų daug vargti su stulpelių pavadinimais, galima juos ištraukti su **.columns.tolist()**"
   ]
  },
  {
   "cell_type": "code",
   "execution_count": 298,
   "metadata": {},
   "outputs": [],
   "source": [
    "duomenis_isgauti_nuo = data.columns.tolist()[3:]\n",
    "max_duom_vid = zanras[duomenis_isgauti_nuo].mean().idxmax()\n",
    "max_duom = zanras[duomenis_isgauti_nuo].mean().max()\n",
    "resultatas = pd.DataFrame([duomenis_isgauti_nuo, max_duom_vid, max_duom],['Indikatorius', 'Žanras', 'Balai']).transpose()\n",
    "\n",
    "\n"
   ]
  },
  {
   "cell_type": "code",
   "execution_count": 299,
   "metadata": {},
   "outputs": [
    {
     "data": {
      "text/html": [
       "<div>\n",
       "<style scoped>\n",
       "    .dataframe tbody tr th:only-of-type {\n",
       "        vertical-align: middle;\n",
       "    }\n",
       "\n",
       "    .dataframe tbody tr th {\n",
       "        vertical-align: top;\n",
       "    }\n",
       "\n",
       "    .dataframe thead th {\n",
       "        text-align: right;\n",
       "    }\n",
       "</style>\n",
       "<table border=\"1\" class=\"dataframe\">\n",
       "  <thead>\n",
       "    <tr style=\"text-align: right;\">\n",
       "      <th></th>\n",
       "      <th>Indikatorius</th>\n",
       "      <th>Žanras</th>\n",
       "      <th>Balai</th>\n",
       "    </tr>\n",
       "  </thead>\n",
       "  <tbody>\n",
       "    <tr>\n",
       "      <th>0</th>\n",
       "      <td>Popularity</td>\n",
       "      <td>electropop</td>\n",
       "      <td>95.0</td>\n",
       "    </tr>\n",
       "    <tr>\n",
       "      <th>1</th>\n",
       "      <td>Beats.Per.Minute</td>\n",
       "      <td>trap music</td>\n",
       "      <td>180.0</td>\n",
       "    </tr>\n",
       "    <tr>\n",
       "      <th>2</th>\n",
       "      <td>Energy</td>\n",
       "      <td>reggaeton flow</td>\n",
       "      <td>80.0</td>\n",
       "    </tr>\n",
       "    <tr>\n",
       "      <th>3</th>\n",
       "      <td>Danceability</td>\n",
       "      <td>r&amp;b en espanol</td>\n",
       "      <td>88.0</td>\n",
       "    </tr>\n",
       "    <tr>\n",
       "      <th>4</th>\n",
       "      <td>Loudness..dB..</td>\n",
       "      <td>brostep</td>\n",
       "      <td>-2.5</td>\n",
       "    </tr>\n",
       "    <tr>\n",
       "      <th>5</th>\n",
       "      <td>Liveness</td>\n",
       "      <td>brostep</td>\n",
       "      <td>37.5</td>\n",
       "    </tr>\n",
       "    <tr>\n",
       "      <th>6</th>\n",
       "      <td>Valence.</td>\n",
       "      <td>boy band</td>\n",
       "      <td>95.0</td>\n",
       "    </tr>\n",
       "    <tr>\n",
       "      <th>7</th>\n",
       "      <td>Length.</td>\n",
       "      <td>reggaeton flow</td>\n",
       "      <td>305.5</td>\n",
       "    </tr>\n",
       "    <tr>\n",
       "      <th>8</th>\n",
       "      <td>Acousticness..</td>\n",
       "      <td>australian pop</td>\n",
       "      <td>69.0</td>\n",
       "    </tr>\n",
       "    <tr>\n",
       "      <th>9</th>\n",
       "      <td>Speechiness.</td>\n",
       "      <td>electropop</td>\n",
       "      <td>34.0</td>\n",
       "    </tr>\n",
       "  </tbody>\n",
       "</table>\n",
       "</div>"
      ],
      "text/plain": [
       "       Indikatorius          Žanras  Balai\n",
       "0        Popularity      electropop   95.0\n",
       "1  Beats.Per.Minute      trap music  180.0\n",
       "2            Energy  reggaeton flow   80.0\n",
       "3      Danceability  r&b en espanol   88.0\n",
       "4    Loudness..dB..         brostep   -2.5\n",
       "5          Liveness         brostep   37.5\n",
       "6          Valence.        boy band   95.0\n",
       "7           Length.  reggaeton flow  305.5\n",
       "8    Acousticness..  australian pop   69.0\n",
       "9      Speechiness.      electropop   34.0"
      ]
     },
     "execution_count": 299,
     "metadata": {},
     "output_type": "execute_result"
    }
   ],
   "source": [
    "resultatas"
   ]
  },
  {
   "cell_type": "code",
   "execution_count": null,
   "metadata": {
    "scrolled": true
   },
   "outputs": [],
   "source": []
  },
  {
   "cell_type": "markdown",
   "metadata": {},
   "source": [
    "# 7 Grįžkime prie sulipdytos lentelės. Ištraukite visas eilutes, kurios turi NaN reikšmių.\n",
    "*filtravimo sąlygose naudokite **.isnull()** funkciją.*"
   ]
  },
  {
   "cell_type": "code",
   "execution_count": null,
   "metadata": {},
   "outputs": [],
   "source": []
  },
  {
   "cell_type": "code",
   "execution_count": 300,
   "metadata": {},
   "outputs": [
    {
     "name": "stdout",
     "output_type": "stream",
     "text": [
      "<class 'pandas.core.frame.DataFrame'>\n",
      "Index: 50 entries, 1 to 50\n",
      "Data columns (total 13 columns):\n",
      " #   Column            Non-Null Count  Dtype  \n",
      "---  ------            --------------  -----  \n",
      " 0   Track.Name        50 non-null     object \n",
      " 1   Artist.Name       50 non-null     object \n",
      " 2   Genre             48 non-null     object \n",
      " 3   Popularity        47 non-null     float64\n",
      " 4   Beats.Per.Minute  50 non-null     int64  \n",
      " 5   Energy            50 non-null     int64  \n",
      " 6   Danceability      50 non-null     int64  \n",
      " 7   Loudness..dB..    50 non-null     int64  \n",
      " 8   Liveness          50 non-null     int64  \n",
      " 9   Valence.          50 non-null     int64  \n",
      " 10  Length.           50 non-null     int64  \n",
      " 11  Acousticness..    50 non-null     int64  \n",
      " 12  Speechiness.      50 non-null     int64  \n",
      "dtypes: float64(1), int64(9), object(3)\n",
      "memory usage: 5.5+ KB\n"
     ]
    }
   ],
   "source": [
    "data.info()"
   ]
  },
  {
   "cell_type": "code",
   "execution_count": 301,
   "metadata": {},
   "outputs": [
    {
     "data": {
      "text/html": [
       "<div>\n",
       "<style scoped>\n",
       "    .dataframe tbody tr th:only-of-type {\n",
       "        vertical-align: middle;\n",
       "    }\n",
       "\n",
       "    .dataframe tbody tr th {\n",
       "        vertical-align: top;\n",
       "    }\n",
       "\n",
       "    .dataframe thead th {\n",
       "        text-align: right;\n",
       "    }\n",
       "</style>\n",
       "<table border=\"1\" class=\"dataframe\">\n",
       "  <thead>\n",
       "    <tr style=\"text-align: right;\">\n",
       "      <th></th>\n",
       "      <th>Track.Name</th>\n",
       "      <th>Artist.Name</th>\n",
       "      <th>Genre</th>\n",
       "      <th>Popularity</th>\n",
       "      <th>Beats.Per.Minute</th>\n",
       "      <th>Energy</th>\n",
       "      <th>Danceability</th>\n",
       "      <th>Loudness..dB..</th>\n",
       "      <th>Liveness</th>\n",
       "      <th>Valence.</th>\n",
       "      <th>Length.</th>\n",
       "      <th>Acousticness..</th>\n",
       "      <th>Speechiness.</th>\n",
       "    </tr>\n",
       "    <tr>\n",
       "      <th>Numeris</th>\n",
       "      <th></th>\n",
       "      <th></th>\n",
       "      <th></th>\n",
       "      <th></th>\n",
       "      <th></th>\n",
       "      <th></th>\n",
       "      <th></th>\n",
       "      <th></th>\n",
       "      <th></th>\n",
       "      <th></th>\n",
       "      <th></th>\n",
       "      <th></th>\n",
       "      <th></th>\n",
       "    </tr>\n",
       "  </thead>\n",
       "  <tbody>\n",
       "    <tr>\n",
       "      <th>4</th>\n",
       "      <td>Beautiful People (feat. Khalid)</td>\n",
       "      <td>Ed Sheeran</td>\n",
       "      <td>pop</td>\n",
       "      <td>NaN</td>\n",
       "      <td>93</td>\n",
       "      <td>65</td>\n",
       "      <td>64</td>\n",
       "      <td>-8</td>\n",
       "      <td>8</td>\n",
       "      <td>55</td>\n",
       "      <td>198</td>\n",
       "      <td>12</td>\n",
       "      <td>19</td>\n",
       "    </tr>\n",
       "    <tr>\n",
       "      <th>19</th>\n",
       "      <td>Lalala</td>\n",
       "      <td>Y2K</td>\n",
       "      <td>NaN</td>\n",
       "      <td>88.0</td>\n",
       "      <td>130</td>\n",
       "      <td>39</td>\n",
       "      <td>84</td>\n",
       "      <td>-8</td>\n",
       "      <td>14</td>\n",
       "      <td>50</td>\n",
       "      <td>161</td>\n",
       "      <td>18</td>\n",
       "      <td>8</td>\n",
       "    </tr>\n",
       "    <tr>\n",
       "      <th>25</th>\n",
       "      <td>bad guy (with Justin Bieber)</td>\n",
       "      <td>Billie Eilish</td>\n",
       "      <td>electropop</td>\n",
       "      <td>NaN</td>\n",
       "      <td>135</td>\n",
       "      <td>45</td>\n",
       "      <td>67</td>\n",
       "      <td>-11</td>\n",
       "      <td>12</td>\n",
       "      <td>68</td>\n",
       "      <td>195</td>\n",
       "      <td>25</td>\n",
       "      <td>30</td>\n",
       "    </tr>\n",
       "    <tr>\n",
       "      <th>48</th>\n",
       "      <td>Happier</td>\n",
       "      <td>Marshmello</td>\n",
       "      <td>brostep</td>\n",
       "      <td>NaN</td>\n",
       "      <td>100</td>\n",
       "      <td>79</td>\n",
       "      <td>69</td>\n",
       "      <td>-3</td>\n",
       "      <td>17</td>\n",
       "      <td>67</td>\n",
       "      <td>214</td>\n",
       "      <td>19</td>\n",
       "      <td>5</td>\n",
       "    </tr>\n",
       "    <tr>\n",
       "      <th>50</th>\n",
       "      <td>Cross Me (feat. Chance the Rapper &amp; PnB Rock)</td>\n",
       "      <td>Ed Sheeran</td>\n",
       "      <td>NaN</td>\n",
       "      <td>82.0</td>\n",
       "      <td>95</td>\n",
       "      <td>79</td>\n",
       "      <td>75</td>\n",
       "      <td>-6</td>\n",
       "      <td>7</td>\n",
       "      <td>61</td>\n",
       "      <td>206</td>\n",
       "      <td>21</td>\n",
       "      <td>12</td>\n",
       "    </tr>\n",
       "  </tbody>\n",
       "</table>\n",
       "</div>"
      ],
      "text/plain": [
       "                                            Track.Name    Artist.Name  \\\n",
       "Numeris                                                                 \n",
       "4                      Beautiful People (feat. Khalid)     Ed Sheeran   \n",
       "19                                              Lalala            Y2K   \n",
       "25                        bad guy (with Justin Bieber)  Billie Eilish   \n",
       "48                                             Happier     Marshmello   \n",
       "50       Cross Me (feat. Chance the Rapper & PnB Rock)     Ed Sheeran   \n",
       "\n",
       "              Genre  Popularity  Beats.Per.Minute  Energy  Danceability  \\\n",
       "Numeris                                                                   \n",
       "4               pop         NaN                93      65            64   \n",
       "19              NaN        88.0               130      39            84   \n",
       "25       electropop         NaN               135      45            67   \n",
       "48          brostep         NaN               100      79            69   \n",
       "50              NaN        82.0                95      79            75   \n",
       "\n",
       "         Loudness..dB..  Liveness  Valence.  Length.  Acousticness..  \\\n",
       "Numeris                                                                \n",
       "4                    -8         8        55      198              12   \n",
       "19                   -8        14        50      161              18   \n",
       "25                  -11        12        68      195              25   \n",
       "48                   -3        17        67      214              19   \n",
       "50                   -6         7        61      206              21   \n",
       "\n",
       "         Speechiness.  \n",
       "Numeris                \n",
       "4                  19  \n",
       "19                  8  \n",
       "25                 30  \n",
       "48                  5  \n",
       "50                 12  "
      ]
     },
     "execution_count": 301,
     "metadata": {},
     "output_type": "execute_result"
    }
   ],
   "source": [
    "data[data['Genre'].isnull() | data['Popularity'].isnull()]\n",
    "\n",
    "\n"
   ]
  },
  {
   "cell_type": "code",
   "execution_count": null,
   "metadata": {},
   "outputs": [],
   "source": []
  },
  {
   "cell_type": "code",
   "execution_count": null,
   "metadata": {},
   "outputs": [],
   "source": []
  },
  {
   "cell_type": "markdown",
   "metadata": {},
   "source": [
    "# 8 Stulpelyje 'Genre' NaN reikšmes pakeiskite į 'pop'"
   ]
  },
  {
   "cell_type": "code",
   "execution_count": 310,
   "metadata": {},
   "outputs": [
    {
     "data": {
      "text/plain": [
       "Numeris\n",
       "1         canadian pop\n",
       "2       reggaeton flow\n",
       "3            dance pop\n",
       "4                  pop\n",
       "5              dfw rap\n",
       "6                  pop\n",
       "7           trap music\n",
       "8                  pop\n",
       "9          country rap\n",
       "10          electropop\n",
       "11           reggaeton\n",
       "12           dance pop\n",
       "13                 pop\n",
       "14      panamanian pop\n",
       "15    canadian hip hop\n",
       "16           dance pop\n",
       "17               latin\n",
       "18             dfw rap\n",
       "19                 pop\n",
       "20         escape room\n",
       "21           pop house\n",
       "22         country rap\n",
       "23      reggaeton flow\n",
       "24               latin\n",
       "25          electropop\n",
       "26        canadian pop\n",
       "27      australian pop\n",
       "28    canadian hip hop\n",
       "29               latin\n",
       "30               latin\n",
       "31                 edm\n",
       "32           dance pop\n",
       "33           reggaeton\n",
       "34         atl hip hop\n",
       "35           dance pop\n",
       "36            big room\n",
       "37      panamanian pop\n",
       "38                 pop\n",
       "39            boy band\n",
       "40           dance pop\n",
       "41                 edm\n",
       "42           dance pop\n",
       "43           dance pop\n",
       "44                 pop\n",
       "45      r&b en espanol\n",
       "46             brostep\n",
       "47               latin\n",
       "48             brostep\n",
       "49                 edm\n",
       "50                 pop\n",
       "Name: Genre, dtype: object"
      ]
     },
     "execution_count": 310,
     "metadata": {},
     "output_type": "execute_result"
    }
   ],
   "source": [
    "data['Genre'] = data['Genre'].fillna('pop')\n",
    "\n",
    "data = pd.DataFrame(data)\n",
    "data[\"Genre\"]\n"
   ]
  },
  {
   "cell_type": "markdown",
   "metadata": {},
   "source": [
    "# 9 Stulpelyje 'Popularity' trūkstamas reikšmes pakeiskite į stulpelio vidurkį\n"
   ]
  },
  {
   "cell_type": "code",
   "execution_count": 313,
   "metadata": {},
   "outputs": [],
   "source": [
    "vidurkis = data['Popularity'].mean()"
   ]
  },
  {
   "cell_type": "code",
   "execution_count": 316,
   "metadata": {},
   "outputs": [
    {
     "data": {
      "text/plain": [
       "Numeris\n",
       "1    79.000000\n",
       "2    92.000000\n",
       "3    85.000000\n",
       "4    87.489362\n",
       "5    94.000000\n",
       "Name: Popularity, dtype: float64"
      ]
     },
     "execution_count": 316,
     "metadata": {},
     "output_type": "execute_result"
    }
   ],
   "source": [
    "data['Popularity'] = data['Popularity'].fillna(vidurkis)\n",
    "data['Popularity'].head()"
   ]
  },
  {
   "cell_type": "code",
   "execution_count": 306,
   "metadata": {},
   "outputs": [
    {
     "data": {
      "text/plain": [
       "Numeris\n",
       "1     79.0\n",
       "2     92.0\n",
       "3     85.0\n",
       "4      NaN\n",
       "5     94.0\n",
       "6     84.0\n",
       "7     92.0\n",
       "8     90.0\n",
       "9     87.0\n",
       "10    95.0\n",
       "11    93.0\n",
       "12    86.0\n",
       "13    88.0\n",
       "14    87.0\n",
       "15    92.0\n",
       "16    82.0\n",
       "17    90.0\n",
       "18    91.0\n",
       "19    88.0\n",
       "20    91.0\n",
       "21    91.0\n",
       "22    91.0\n",
       "23    83.0\n",
       "24    91.0\n",
       "25     NaN\n",
       "26    70.0\n",
       "27    83.0\n",
       "28    89.0\n",
       "29    91.0\n",
       "30    89.0\n",
       "31    84.0\n",
       "32    89.0\n",
       "33    89.0\n",
       "34    89.0\n",
       "35    89.0\n",
       "36    89.0\n",
       "37    91.0\n",
       "38    87.0\n",
       "39    80.0\n",
       "40    78.0\n",
       "41    88.0\n",
       "42    90.0\n",
       "43    87.0\n",
       "44    84.0\n",
       "45    88.0\n",
       "46    88.0\n",
       "47    88.0\n",
       "48     NaN\n",
       "49    88.0\n",
       "50    82.0\n",
       "Name: Popularity, dtype: float64"
      ]
     },
     "execution_count": 306,
     "metadata": {},
     "output_type": "execute_result"
    }
   ],
   "source": []
  }
 ],
 "metadata": {
  "kernelspec": {
   "display_name": "Python 3",
   "language": "python",
   "name": "python3"
  },
  "language_info": {
   "codemirror_mode": {
    "name": "ipython",
    "version": 3
   },
   "file_extension": ".py",
   "mimetype": "text/x-python",
   "name": "python",
   "nbconvert_exporter": "python",
   "pygments_lexer": "ipython3",
   "version": "3.10.11"
  }
 },
 "nbformat": 4,
 "nbformat_minor": 2
}
